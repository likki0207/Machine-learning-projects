{
 "cells": [
  {
   "cell_type": "code",
   "execution_count": 3,
   "metadata": {},
   "outputs": [],
   "source": [
    "# Importing the required libraries\n",
    "import math\n",
    "import pandas as pd\n",
    "import numpy as np\n",
    "import matplotlib.pyplot as plt"
   ]
  },
  {
   "cell_type": "code",
   "execution_count": 4,
   "metadata": {},
   "outputs": [],
   "source": [
    "# Importing the dataset\n",
    "df=pd.read_csv('Ads_CTR_Optimisation.csv')"
   ]
  },
  {
   "cell_type": "code",
   "execution_count": 6,
   "metadata": {},
   "outputs": [],
   "source": [
    "# Implementing Upper confidence bound model\n",
    "N=10000\n",
    "d=10\n",
    "total_ads_selected=[]\n",
    "total_selections=[0]*d\n",
    "reward_sum=[0]*d\n",
    "total_reward=0\n",
    "for n in range(0,N):\n",
    "  ad=0\n",
    "  max_upper_bound=0\n",
    "  for i in range(0,d):\n",
    "    if (total_selections[i]>0):\n",
    "      avg_reward=reward_sum[i]/total_selections[i]\n",
    "      deltai=math.sqrt(3/2*math.log(n+1)/total_selections[i])\n",
    "      upper_bound=avg_reward+deltai\n",
    "    else:\n",
    "      upper_bound=1e400\n",
    "    if (upper_bound>max_upper_bound):\n",
    "      max_upper_bound=upper_bound\n",
    "      ad=i\n",
    "  total_ads_selected.append(ad)\n",
    "  total_selections[ad]=total_selections[ad]+1\n",
    "  reward=df.values[n,ad]\n",
    "  reward_sum[ad]=reward_sum[ad]+reward\n",
    "  total_reward=total_reward+reward"
   ]
  },
  {
   "cell_type": "code",
   "execution_count": 9,
   "metadata": {},
   "outputs": [
    {
     "data": {
      "image/png": "[encoded data removed]",
      "text/plain": [
       "<Figure size 432x288 with 1 Axes>"
      ]
     },
     "metadata": {
      "needs_background": "light"
     },
     "output_type": "display_data"
    }
   ],
   "source": [
    "# Visualising the results\n",
    "\n",
    "plt.hist(total_ads_selected)\n",
    "plt.xlabel('Advertisements')\n",
    "plt.ylabel('Total number of times each ad was clicked')\n",
    "plt.show()"
   ]
  }
 ],
 "metadata": {
  "kernelspec": {
   "display_name": "Python 3",
   "language": "python",
   "name": "python3"
  },
  "language_info": {
   "codemirror_mode": {
    "name": "ipython",
    "version": 3
   },
   "file_extension": ".py",
   "mimetype": "text/x-python",
   "name": "python",
   "nbconvert_exporter": "python",
   "pygments_lexer": "ipython3",
   "version": "3.7.7"
  }
 },
 "nbformat": 4,
 "nbformat_minor": 4
}
