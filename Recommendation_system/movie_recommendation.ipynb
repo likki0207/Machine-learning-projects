{
 "cells": [
  {
   "cell_type": "code",
   "execution_count": 1,
   "metadata": {},
   "outputs": [],
   "source": [
    "#import the libraries\n",
    "import pandas as pd\n",
    "import numpy as np\n",
    "from sklearn.metrics.pairwise import cosine_similarity\n",
    "from sklearn.feature_extraction.text import CountVectorizer"
   ]
  },
  {
   "cell_type": "code",
   "execution_count": 3,
   "metadata": {},
   "outputs": [],
   "source": [
    "#import the dataset\n",
    "df=pd.read_csv(\"movie_dataset.csv\")"
   ]
  },
  {
   "cell_type": "code",
   "execution_count": 6,
   "metadata": {},
   "outputs": [],
   "source": [
    "#initialize the features as a list \n",
    "features=['keywords','cast','genres','director']"
   ]
  },
  {
   "cell_type": "code",
   "execution_count": 7,
   "metadata": {},
   "outputs": [],
   "source": [
    "#creating a function for combining the values of these columns into a single string.\n",
    "def combine_features(row):\n",
    "    return row['keywords']+\" \"+row['cast']+\" \"+row['genres']+\" \"+row['director']"
   ]
  },
  {
   "cell_type": "code",
   "execution_count": 8,
   "metadata": {},
   "outputs": [],
   "source": [
    "#call this function over each row of our dataframe. \n",
    "#But, before doing that, we need to clean and preprocess the data for our use. \n",
    "#We will fill all the NaN values with blank string in the dataframe.\n",
    "for feature in features:\n",
    "    df[feature]=df[feature].fillna('') #filling all NaNs with blank string\n",
    "\n",
    "df[\"combined_features\"]=df.apply(combine_features,axis=1)"
   ]
  },
  {
   "cell_type": "code",
   "execution_count": 11,
   "metadata": {},
   "outputs": [],
   "source": [
    "ob=CountVectorizer() #creating new CountVectorizer() object\n",
    "count_matrix=ob.fit_transform(df[\"combined_features\"]) \n",
    "#feeding combined strings(movie contents) to CountVectorizer() object"
   ]
  },
  {
   "cell_type": "code",
   "execution_count": 12,
   "metadata": {},
   "outputs": [],
   "source": [
    "#Now, we need to obtain the cosine similarity matrix from the count matrix.\n",
    "cosine_sim=cosine_similarity(count_matrix)"
   ]
  },
  {
   "cell_type": "code",
   "execution_count": 13,
   "metadata": {},
   "outputs": [],
   "source": [
    "#now we will define two functions to get movie title from movie index and vice-versa.\n",
    "def get_title_from_index(index):\n",
    "    return df[df.index==index][\"title\"].values[0]\n",
    "def get_index_from_title(title):\n",
    "    return df[df.title==title][\"index\"].values[0]"
   ]
  },
  {
   "cell_type": "code",
   "execution_count": 15,
   "metadata": {},
   "outputs": [
    {
     "name": "stdout",
     "output_type": "stream",
     "text": [
      "0                                         Avatar\n",
      "1       Pirates of the Caribbean: At World's End\n",
      "2                                        Spectre\n",
      "3                          The Dark Knight Rises\n",
      "4                                    John Carter\n",
      "                          ...                   \n",
      "4798                                 El Mariachi\n",
      "4799                                   Newlyweds\n",
      "4800                   Signed, Sealed, Delivered\n",
      "4801                            Shanghai Calling\n",
      "4802                           My Date with Drew\n",
      "Name: original_title, Length: 4803, dtype: object\n",
      "enter the movie name from the above list: Avatar\n"
     ]
    }
   ],
   "source": [
    "print(df[\"original_title\"])\n",
    "user_likes=input('enter the movie name from the above list: ')\n",
    "index=get_index_from_title(user_likes)\n",
    "similar_movies=list(enumerate(cosine_sim[index]))"
   ]
  },
  {
   "cell_type": "code",
   "execution_count": 16,
   "metadata": {},
   "outputs": [],
   "source": [
    "#We will sort the list similar_movies according to similarity scores in descending order. \n",
    "#Since the most similar movie to a given movie will be itself, we will discard the first element after sorting the movies.\n",
    "sorted_similar_movies = sorted(similar_movies,key=lambda x:x[1],reverse=True)[1:]"
   ]
  },
  {
   "cell_type": "code",
   "execution_count": 17,
   "metadata": {},
   "outputs": [
    {
     "name": "stdout",
     "output_type": "stream",
     "text": [
      "Top 5 similar movies to Avatar are as follows:\n",
      "\n",
      "Guardians of the Galaxy\n",
      "Aliens\n",
      "Star Wars: Clone Wars: Volume 1\n",
      "Star Trek Into Darkness\n",
      "Star Trek Beyond\n",
      "Alien\n"
     ]
    }
   ],
   "source": [
    "#we will run a loop to print first 5 entries from sorted_similar_movies list.\n",
    "i=0\n",
    "print(\"Top 5 similar movies to \"+user_likes+\" are as follows:\\n\")\n",
    "for element in sorted_similar_movies:\n",
    "    print(get_title_from_index(element[0]))\n",
    "    i=i+1\n",
    "    if i>5:\n",
    "        break"
   ]
  }
 ],
 "metadata": {
  "kernelspec": {
   "display_name": "Python 3",
   "language": "python",
   "name": "python3"
  },
  "language_info": {
   "codemirror_mode": {
    "name": "ipython",
    "version": 3
   },
   "file_extension": ".py",
   "mimetype": "text/x-python",
   "name": "python",
   "nbconvert_exporter": "python",
   "pygments_lexer": "ipython3",
   "version": "3.7.7"
  }
 },
 "nbformat": 4,
 "nbformat_minor": 4
}
